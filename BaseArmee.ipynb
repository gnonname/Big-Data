{
 "cells": [
  {
   "cell_type": "code",
   "execution_count": 18,
   "id": "06ca9577-bdae-4578-9535-25f2ba2ccd1c",
   "metadata": {},
   "outputs": [],
   "source": [
    "import requests\n",
    "import json \n",
    "import time\n",
    "import random"
   ]
  },
  {
   "cell_type": "markdown",
   "id": "3881898c",
   "metadata": {},
   "source": [
    "## Insertion automatisée pour test base armee MongoDb"
   ]
  },
  {
   "cell_type": "markdown",
   "id": "5ac1c79a",
   "metadata": {},
   "source": [
    "### Soldats"
   ]
  },
  {
   "cell_type": "code",
   "execution_count": 56,
   "id": "dac7ff85-b783-4fa8-b064-4e79bca8c4b4",
   "metadata": {},
   "outputs": [
    {
     "name": "stdout",
     "output_type": "stream",
     "text": [
      "<bound method Response.json of <Response [200]>>\n"
     ]
    }
   ],
   "source": [
    "for i in range(1, 101):\n",
    "    data = { #soldat\n",
    "        \"codeSoldat\": str(i),\n",
    "        \"nomSoldat\": \"Soldat\" + str(i),\n",
    "        \"prenomSoldat\": \"PreSoldat\" + str(i),\n",
    "        \"dateNaissance\":str(random.randint(1, 28))+ \"/\" +str(random.randint(1, 12)) + \"/\" + str(random.randint(1860, 1880)),\n",
    "        \"dateDeces\":str(random.randint(1, 28))+ \"/\" +str(random.randint(1, 12)) + \"/\" + str(random.randint(1914, 1920))\n",
    "    }\n",
    "    r1 = requests.post(\n",
    "        url=\"http://localhost:3000/soldat/create\", \n",
    "        json = data\n",
    "    )\n",
    "print(r1.json)"
   ]
  },
  {
   "cell_type": "markdown",
   "id": "b275c702",
   "metadata": {},
   "source": [
    "### Bataille"
   ]
  },
  {
   "cell_type": "code",
   "execution_count": 60,
   "id": "46311c69-2766-42d3-b899-d0a7c504119d",
   "metadata": {},
   "outputs": [
    {
     "name": "stdout",
     "output_type": "stream",
     "text": [
      "<bound method Response.json of <Response [200]>>\n"
     ]
    }
   ],
   "source": [
    "for i in range(1, 101):\n",
    "    data = { #Bataille\n",
    "        \"codeBataille\": str(i),\n",
    "        \"lieu\": \"Lieu_\" + str(i),\n",
    "        \"dateDebut\": str(random.randint(1, 28))+ \"/\" +str(random.randint(1, 12)) + \"/\" + str(random.randint(1914, 1916)),\n",
    "        \"dateFin\": str(random.randint(1, 28))+ \"/\" +str(random.randint(1, 12)) + \"/\" + str(random.randint(1917, 1918))\n",
    "        }\n",
    "    r2 = requests.post(\n",
    "        url=\"http://localhost:3000/bataille/create\", \n",
    "        json = data\n",
    "    )\n",
    "print(r2.json)"
   ]
  },
  {
   "cell_type": "markdown",
   "id": "88f3d392",
   "metadata": {},
   "source": [
    "### Blessure"
   ]
  },
  {
   "cell_type": "code",
   "execution_count": 14,
   "id": "a885a485-e2e4-4b81-a807-a1895e9c18dd",
   "metadata": {},
   "outputs": [
    {
     "name": "stdout",
     "output_type": "stream",
     "text": [
      "<bound method Response.json of <Response [200]>>\n"
     ]
    }
   ],
   "source": [
    "for i in range(1, 101):\n",
    "    data = {#blessure\n",
    "        \"codeBlessure\": str(i),\n",
    "        \"typeBlessure\":\"Blessure_\" + str(i),\n",
    "    }\n",
    "    r3 = requests.post(\n",
    "        url=\"http://localhost:3000/blessure/create\", \n",
    "        json = data\n",
    "    )\n",
    "print(r3.json)"
   ]
  },
  {
   "cell_type": "markdown",
   "id": "2cdb25a9",
   "metadata": {},
   "source": [
    "### Grade"
   ]
  },
  {
   "cell_type": "code",
   "execution_count": null,
   "id": "ddc90d1e",
   "metadata": {},
   "outputs": [],
   "source": [
    "for i in range(1, 101):\n",
    "    data = {#grade\n",
    "        \"codeGrade\": str(i),\n",
    "        \"intituleGrade\": \"Grade_\" + str(i)\n",
    "    }\n",
    "    r4 = requests.post(\n",
    "        url=\"http://localhost:3000/grade/create\", \n",
    "        json = data\n",
    "    )\n",
    "print(r4.text)"
   ]
  },
  {
   "cell_type": "markdown",
   "id": "6ae18951",
   "metadata": {},
   "source": [
    "### Unitee"
   ]
  },
  {
   "cell_type": "code",
   "execution_count": 43,
   "id": "9e9138f7",
   "metadata": {},
   "outputs": [
    {
     "name": "stdout",
     "output_type": "stream",
     "text": [
      "{\"status\":0,\"error\":\"Identifiant déja existant\"}\n"
     ]
    }
   ],
   "source": [
    "for i in range(1, 101):\n",
    "    data = {#unitee\n",
    "        \"codeUnite\": \"U\"+str(random.randint(2, 200)),\n",
    "        \"nomUnite\": \"Unite_\" + str(i)\n",
    "    }\n",
    "    r5 = requests.post(\n",
    "        url=\"http://localhost:3000/unite/create\", \n",
    "        json = data\n",
    "    )\n",
    "print(r5.text)"
   ]
  },
  {
   "cell_type": "markdown",
   "id": "8263d35d",
   "metadata": {},
   "source": [
    "### Promu"
   ]
  },
  {
   "cell_type": "code",
   "execution_count": 48,
   "id": "dcdd685f",
   "metadata": {},
   "outputs": [
    {
     "name": "stdout",
     "output_type": "stream",
     "text": [
      "<bound method Response.json of <Response [200]>>\n"
     ]
    }
   ],
   "source": [
    "for i in range(1, 101):\n",
    "    data = { #promu\n",
    "        \"codeSoldat\": str(i),\n",
    "        \"codeGrade\": str(i),\n",
    "        \"datePromotion\": str(random.randint(1, 28))+ \"/\" +str(random.randint(1, 12)) + \"/\" + str(random.randint(1914, 1916)),\n",
    "    }\n",
    "    r6 = requests.post(\n",
    "        url=\"http://localhost:3000/promu/create\", \n",
    "        json = data\n",
    "    )\n",
    "print(r6.json)"
   ]
  },
  {
   "cell_type": "markdown",
   "id": "4ee7c464",
   "metadata": {},
   "source": [
    "### Affecté"
   ]
  },
  {
   "cell_type": "code",
   "execution_count": 54,
   "id": "1046b0e0",
   "metadata": {},
   "outputs": [
    {
     "name": "stdout",
     "output_type": "stream",
     "text": [
      "<bound method Response.json of <Response [200]>>\n"
     ]
    }
   ],
   "source": [
    "for i in range(1, 101):\n",
    "    data = { #affecté\n",
    "        \"codeSoldat\": str(i),\n",
    "        \"codeUnite\": str(i),  \n",
    "        \"dateAffectation\": str(random.randint(1, 28))+ \"/\" +str(random.randint(1, 12)) + \"/\" + str(random.randint(1914, 1916)),\n",
    "    }\n",
    "    r7 = requests.post(\n",
    "        url=\"http://localhost:3000/affecte/create\", \n",
    "        json = data\n",
    "    )\n",
    "print(r7.json)"
   ]
  }
 ],
 "metadata": {
  "kernelspec": {
   "display_name": "Python 3 (ipykernel)",
   "language": "python",
   "name": "python3"
  },
  "language_info": {
   "codemirror_mode": {
    "name": "ipython",
    "version": 3
   },
   "file_extension": ".py",
   "mimetype": "text/x-python",
   "name": "python",
   "nbconvert_exporter": "python",
   "pygments_lexer": "ipython3",
   "version": "3.8.10"
  }
 },
 "nbformat": 4,
 "nbformat_minor": 5
}
